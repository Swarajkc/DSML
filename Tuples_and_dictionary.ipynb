{
 "cells": [
  {
   "cell_type": "markdown",
   "id": "78597cbf-c185-4adc-82b4-06353eab1c3f",
   "metadata": {},
   "source": [
    "# Assignment 1\n",
    "**<br>Submitted By:- Swaraj KC**\n",
    "# Python Data Types: Tuple and Dictionary\n",
    "\n",
    "# Tuples\n",
    "Tuples are a standard data type that allows to store values in a sequence. Tuples are immutable sequences in Python, typically used to store collections of heterogeneous data. They are defined by enclosing elements in parentheses `( )`, separated by commas. They are useful in situations where we might want to share the data but not allowing it to be manipulated.\n",
    "\n",
    "# Basic Properties\n",
    "- Immutable:\n",
    "Once created, elements cannot be changed. There is no append() or extend() method.Elements cannot be removed or popped.\n",
    "- Ordered:\n",
    "Elements can be indexed, and the order is maintained.\n",
    "- Allow duplicate elements.\n",
    "\n",
    "# Common Tuple Methods\n",
    "- `count(x)`: Counts the number of occurrences of an item `x`.\n",
    "- `index(x)`: Returns the index of the first occurrence of an item `x`.\n",
    "\n",
    "# Example Usage\n"
   ]
  },
  {
   "cell_type": "code",
   "execution_count": 14,
   "id": "59431e8d-11f8-4a4a-9b02-65bd794ae6fa",
   "metadata": {},
   "outputs": [
    {
     "name": "stdout",
     "output_type": "stream",
     "text": [
      "(1, 'apple', 3.5)\n"
     ]
    }
   ],
   "source": [
    "# Creating a simple tuple\n",
    "example_tuple = (1, 'apple', 3.5)\n",
    "print(example_tuple)"
   ]
  },
  {
   "cell_type": "code",
   "execution_count": 16,
   "id": "adc3f808-3ac1-48b2-a4e1-9f3284dc84fe",
   "metadata": {},
   "outputs": [
    {
     "name": "stdout",
     "output_type": "stream",
     "text": [
      "1\n"
     ]
    }
   ],
   "source": [
    "# Counting elements\n",
    "print(example_tuple.count('apple'))"
   ]
  },
  {
   "cell_type": "code",
   "execution_count": 17,
   "id": "b23bb3e8-a1d4-49c9-a112-7d331f732d34",
   "metadata": {},
   "outputs": [
    {
     "name": "stdout",
     "output_type": "stream",
     "text": [
      "2\n"
     ]
    }
   ],
   "source": [
    "# Finding index\n",
    "print(example_tuple.index(3.5))"
   ]
  },
  {
   "cell_type": "markdown",
   "id": "7dba9f5b-1bf7-4f07-8555-fb61c29f25a5",
   "metadata": {},
   "source": [
    "# Common Tuple Operations\n",
    "Python provides a number of ways to manipulate tuples. Some important ones are:\n",
    "# Tuple Slicing\n",
    "The first value in a tuple is indexed 0. It can be accessed using square brackets.\n",
    "# Accessing tuple elements"
   ]
  },
  {
   "cell_type": "code",
   "execution_count": 21,
   "id": "1d5f0fde-9690-44e1-baf0-b0d431fba899",
   "metadata": {},
   "outputs": [
    {
     "name": "stdout",
     "output_type": "stream",
     "text": [
      "1\n",
      "3.5\n"
     ]
    }
   ],
   "source": [
    "print(example_tuple[0])\n",
    "print(example_tuple[-1])"
   ]
  },
  {
   "cell_type": "markdown",
   "id": "24a37acf-6614-4ec7-bb5b-5ebaf097c83e",
   "metadata": {},
   "source": [
    "While indexing is used to obtain individual items in a tuple, slicing allows to obtain a subset of items. When entering a range that needs to be extracted, it is called as range slicing. The general format of range slicing is:<br>\n",
    "**[Start index (included):Stop index (excluded):Increment]**<br>\n",
    "Here by default the start index is 0 and the increment is 1.\n",
    "# Creating a tuple and printing first three elements of the tupple"
   ]
  },
  {
   "cell_type": "code",
   "execution_count": 18,
   "id": "37f44a67-29c1-4c94-8320-8bfb3cd8229a",
   "metadata": {},
   "outputs": [
    {
     "name": "stdout",
     "output_type": "stream",
     "text": [
      "(1, 2, 3)\n"
     ]
    }
   ],
   "source": [
    "pyt_tup = (1,2,3,4,5)\n",
    "print(pyt_tup[:3])"
   ]
  },
  {
   "cell_type": "markdown",
   "id": "147d041f-7609-47c3-ae70-ecb9c570a826",
   "metadata": {},
   "source": [
    "# deleting a tuple"
   ]
  },
  {
   "cell_type": "code",
   "execution_count": 19,
   "id": "c4474be4-208b-4684-ba93-14fa22496d93",
   "metadata": {},
   "outputs": [],
   "source": [
    "del pyt_tup"
   ]
  },
  {
   "cell_type": "markdown",
   "id": "e45cc17f-62ff-47a3-b1b6-84f628ea392c",
   "metadata": {},
   "source": [
    "# Tuple Addition\n",
    "Tuples can be combined to form a new tuple. The addition operation simply performs concatenation with tuples."
   ]
  },
  {
   "cell_type": "code",
   "execution_count": 22,
   "id": "e2ac52e5-40d7-4b11-b76e-c31df98e6ccf",
   "metadata": {},
   "outputs": [
    {
     "name": "stdout",
     "output_type": "stream",
     "text": [
      "(1, 2, 3, 4, 5, 6, 7, 8)\n"
     ]
    }
   ],
   "source": [
    "x = (1,2,3,4)\n",
    "y = (5,6,7,8)\n",
    "z = x + y \n",
    "print(z)"
   ]
  },
  {
   "cell_type": "markdown",
   "id": "413b9cc6-008b-446f-b5f8-67490d759e75",
   "metadata": {},
   "source": [
    "# Tuple Multiplication\n",
    "The multiplication operation simply leads to repitition of the tuple."
   ]
  },
  {
   "cell_type": "code",
   "execution_count": 23,
   "id": "9e370a6b-a0bf-46df-b120-b4b9d270efbd",
   "metadata": {},
   "outputs": [
    {
     "name": "stdout",
     "output_type": "stream",
     "text": [
      "(1, 2, 3, 4, 1, 2, 3, 4)\n"
     ]
    }
   ],
   "source": [
    "x = (1,2,3,4)\n",
    "z = x*2\n",
    "print(z)"
   ]
  },
  {
   "cell_type": "markdown",
   "id": "3b725cae-5e0f-4788-b119-aa1b3acabf02",
   "metadata": {},
   "source": [
    "# Dictionaries\n",
    "A python dictionary is a data structure that stores the value in key: value pairs. Python dictionaries are essential for efficient data mapping and manipulation in programming. The basic syntax for python dictionary is:<br>\n",
    "**dict_var = {key1 : value1, key2 : value2, …..}**<br>\n",
    "# Example"
   ]
  },
  {
   "cell_type": "code",
   "execution_count": 24,
   "id": "e5b25845-9d40-4dd9-a45e-b16dfe69f0b7",
   "metadata": {},
   "outputs": [
    {
     "name": "stdout",
     "output_type": "stream",
     "text": [
      "{'nepal': 'KTM', 'india': 'Delhi'}\n"
     ]
    }
   ],
   "source": [
    "pyt_dict = {\"nepal\":\"KTM\", \"india\":\"Delhi\"}\n",
    "print(pyt_dict)"
   ]
  },
  {
   "cell_type": "markdown",
   "id": "e44106cd-60ff-46be-be7a-fd1c89a12fb0",
   "metadata": {},
   "source": [
    "# Accessing a value a dictionary and also accessing using get()"
   ]
  },
  {
   "cell_type": "code",
   "execution_count": 31,
   "id": "5d58d675-604f-4ca6-b065-78e0ffe67957",
   "metadata": {},
   "outputs": [
    {
     "name": "stdout",
     "output_type": "stream",
     "text": [
      "KTM\n",
      "KTM\n"
     ]
    }
   ],
   "source": [
    "print(pyt_dict['nepal'])\n",
    "print(pyt_dict.get('nepal'))"
   ]
  },
  {
   "cell_type": "markdown",
   "id": "5d8c1ba1-fa54-4960-ad09-067dcf745bc7",
   "metadata": {},
   "source": [
    "# Deleting a value in python dictionary"
   ]
  },
  {
   "cell_type": "code",
   "execution_count": 26,
   "id": "c611e579-884d-457f-9197-6dc7988f26c0",
   "metadata": {},
   "outputs": [
    {
     "name": "stdout",
     "output_type": "stream",
     "text": [
      "{'nepal': 'KTM'}\n"
     ]
    }
   ],
   "source": [
    "del pyt_dict['india']\n",
    "print(pyt_dict)"
   ]
  },
  {
   "cell_type": "markdown",
   "id": "cf25f9f8-9bba-4591-a325-052a2c6de672",
   "metadata": {},
   "source": [
    "# Creating Dictionaries in python\n",
    "In Python, a dictionary can be created by placing a sequence of elements within curly {} braces, separated by a ‘comma’. The dictionary holds pairs of values, one being the Key and the other corresponding pair element being its Key:value. Values in a dictionary can be of any data type and can be duplicated, whereas keys can’t be repeated and must be immutable."
   ]
  },
  {
   "cell_type": "code",
   "execution_count": 28,
   "id": "ad63626d-b395-4c79-9fe5-a0b756a6f1eb",
   "metadata": {},
   "outputs": [
    {
     "name": "stdout",
     "output_type": "stream",
     "text": [
      "\n",
      "Dictionary with the use of Integer Keys: \n",
      "{1: 'Swaraj', 2: 'Ram', 3: 'Shyam'}\n"
     ]
    }
   ],
   "source": [
    "Dict = {1: 'Swaraj', 2: 'Ram', 3: 'Shyam'}\n",
    "print(\"\\nDictionary with the use of Integer Keys: \")\n",
    "print(Dict)"
   ]
  },
  {
   "cell_type": "code",
   "execution_count": 29,
   "id": "8927b2ea-e8bc-4a30-8c08-3be147e5c051",
   "metadata": {},
   "outputs": [
    {
     "name": "stdout",
     "output_type": "stream",
     "text": [
      "\n",
      "Dictionary with the use of Mixed Keys: \n",
      "{'Name': 'Swaraj', 1: [1, 2, 3, 4]}\n"
     ]
    }
   ],
   "source": [
    "Dict = {'Name': 'Swaraj', 1: [1, 2, 3, 4]}\n",
    "print(\"\\nDictionary with the use of Mixed Keys: \")\n",
    "print(Dict)"
   ]
  },
  {
   "cell_type": "markdown",
   "id": "d71eac28-dae1-4362-9419-f09fce8f1376",
   "metadata": {},
   "source": [
    "# Nested Dictionary\n",
    "A nested dictionary in Python is essentially a dictionary within a dictionary. It's a powerful way to store and organize complex data structures in Python.\n",
    "# For example"
   ]
  },
  {
   "cell_type": "code",
   "execution_count": 30,
   "id": "15f8fe08-ec64-4073-a5f7-183c1f92ebbb",
   "metadata": {},
   "outputs": [
    {
     "name": "stdout",
     "output_type": "stream",
     "text": [
      "{1: 'Nepal', 2: 'India', 3: {'A': 'Welcome', 'B': 'To', 'C': 'Nepal'}}\n"
     ]
    }
   ],
   "source": [
    "Dict = {1: 'Nepal', 2: 'India',\n",
    "        3: {'A': 'Welcome', 'B': 'To', 'C': 'Nepal'}}\n",
    "\n",
    "print(Dict)"
   ]
  },
  {
   "cell_type": "markdown",
   "id": "bccc6797-e5ef-4f76-9d34-57b83469911d",
   "metadata": {},
   "source": [
    "# Accessing an Element of a nested dictionary\n",
    "Accessing using indexing [] syntax.\n",
    "# for example"
   ]
  },
  {
   "cell_type": "code",
   "execution_count": 32,
   "id": "e3547d66-d223-47d2-b3bc-55339cfa4c16",
   "metadata": {},
   "outputs": [
    {
     "name": "stdout",
     "output_type": "stream",
     "text": [
      "{1: 'Nepal'}\n",
      "Nepal\n",
      "Swaraj\n"
     ]
    }
   ],
   "source": [
    "Dict = {'Dict1': {1: 'Nepal'},\n",
    "        'Dict2': {'Name': 'Swaraj'}}\n",
    "\n",
    "print(Dict['Dict1'])\n",
    "print(Dict['Dict1'][1])\n",
    "print(Dict['Dict2']['Name'])"
   ]
  },
  {
   "cell_type": "markdown",
   "id": "5efeb8d3-350c-47a8-8f2a-a14a56147309",
   "metadata": {},
   "source": [
    "# Adding elements to a dictionary\n",
    "The addition of elements can be done in multiple ways. One value at a time can be added to a Dictionary by defining value along with the key e.g. Dict[Key] = ‘Value’.\n",
    "<br>\n",
    "Updating an existing value in a Dictionary can be done by using the built-in update() method. Nested key values can also be added to an existing Dictionary.\n",
    "# Example"
   ]
  },
  {
   "cell_type": "code",
   "execution_count": 34,
   "id": "8e6a0b86-a885-415e-ac68-0101a8dac8ed",
   "metadata": {},
   "outputs": [
    {
     "name": "stdout",
     "output_type": "stream",
     "text": [
      "Empty Dictionary: \n",
      "{}\n",
      "\n",
      "Dictionary after adding 3 elements: \n",
      "{0: 'Swaraj', 2: 'Ram', 3: 1}\n",
      "\n",
      "Dictionary after adding another extra element: \n",
      "{0: 'Swaraj', 2: 'Ram', 3: 1, 'Value_set': (2, 3, 4)}\n",
      "\n",
      "Updated key value: \n",
      "{0: 'Swaraj', 2: 'Nepal', 3: 1, 'Value_set': (2, 3, 4)}\n",
      "\n",
      "Adding a Nested Key: \n",
      "{0: 'Swaraj', 2: 'Nepal', 3: 1, 'Value_set': (2, 3, 4), 5: {'Nested': {'1': 'Hari', '2': 'Gita'}}}\n"
     ]
    }
   ],
   "source": [
    "Dict = {}\n",
    "print(\"Empty Dictionary: \")\n",
    "print(Dict)\n",
    "Dict[0] = 'Swaraj'\n",
    "Dict[2] = 'Ram'\n",
    "Dict[3] = 1\n",
    "print(\"\\nDictionary after adding 3 elements: \")\n",
    "print(Dict)\n",
    "\n",
    "Dict['Value_set'] = 2, 3, 4\n",
    "print(\"\\nDictionary after adding another extra element: \")\n",
    "print(Dict)\n",
    "\n",
    "Dict[2] = 'Nepal'\n",
    "print(\"\\nUpdated key value: \")\n",
    "print(Dict)\n",
    "Dict[5] = {'Nested': {'1': 'Hari', '2': 'Gita'}}\n",
    "print(\"\\nAdding a Nested Key: \")\n",
    "print(Dict)"
   ]
  },
  {
   "cell_type": "markdown",
   "id": "c0eff2c5-57de-4559-89d5-54139923bb88",
   "metadata": {},
   "source": [
    "**<center> End OF Assignment </center><br><center> Thank you</center>**"
   ]
  },
  {
   "cell_type": "code",
   "execution_count": null,
   "id": "1fe08b6f-f24c-42fe-a549-d2e428476c96",
   "metadata": {},
   "outputs": [],
   "source": []
  }
 ],
 "metadata": {
  "kernelspec": {
   "display_name": "Python 3 (ipykernel)",
   "language": "python",
   "name": "python3"
  },
  "language_info": {
   "codemirror_mode": {
    "name": "ipython",
    "version": 3
   },
   "file_extension": ".py",
   "mimetype": "text/x-python",
   "name": "python",
   "nbconvert_exporter": "python",
   "pygments_lexer": "ipython3",
   "version": "3.12.6"
  }
 },
 "nbformat": 4,
 "nbformat_minor": 5
}
