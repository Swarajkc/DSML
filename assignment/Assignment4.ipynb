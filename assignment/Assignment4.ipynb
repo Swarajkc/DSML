{
 "cells": [
  {
   "cell_type": "markdown",
   "id": "45949346-2fb6-4697-9cbd-c79ed79519f9",
   "metadata": {},
   "source": [
    "# Displaying Hello World"
   ]
  },
  {
   "cell_type": "code",
   "execution_count": 1,
   "id": "2518ad32-e53a-4681-aa79-e1ba7969fb40",
   "metadata": {},
   "outputs": [
    {
     "name": "stdout",
     "output_type": "stream",
     "text": [
      "Hello World\n"
     ]
    }
   ],
   "source": [
    "print(\"Hello World\")"
   ]
  },
  {
   "cell_type": "markdown",
   "id": "3f395180-4600-4206-bdfb-03741f957e9f",
   "metadata": {},
   "source": [
    "# Displaying sum of Two numbers"
   ]
  },
  {
   "cell_type": "code",
   "execution_count": 4,
   "id": "ec95a690-b4ef-49c2-99dd-784b8321c473",
   "metadata": {},
   "outputs": [
    {
     "name": "stdin",
     "output_type": "stream",
     "text": [
      "Enter first number 2\n",
      "Enter second number 3\n"
     ]
    },
    {
     "name": "stdout",
     "output_type": "stream",
     "text": [
      "The Sum is: 5\n"
     ]
    }
   ],
   "source": [
    "a = int(input(\"Enter first number\"))\n",
    "b = int(input(\"Enter second number\"))\n",
    "sums = a + b\n",
    "print(\"The Sum is:\", sums)"
   ]
  },
  {
   "cell_type": "markdown",
   "id": "881d44b6-57a5-418e-83a0-4440274beb6d",
   "metadata": {},
   "source": [
    "# To calculate discount on the basis of assumption,  if purchased amount is greater than or equal to 1000, discount is 5%"
   ]
  },
  {
   "cell_type": "code",
   "execution_count": 8,
   "id": "b2eaf5ec-3225-47d4-85af-83dce0ef61c8",
   "metadata": {},
   "outputs": [
    {
     "name": "stdin",
     "output_type": "stream",
     "text": [
      "Enter the purchase price 500\n"
     ]
    },
    {
     "name": "stdout",
     "output_type": "stream",
     "text": [
      "no discount\n"
     ]
    }
   ],
   "source": [
    "purchase_price = int(input(\"Enter the purchase price\"))\n",
    "if purchase_price>= 1000:\n",
    "    discount = purchase_price * 0.05\n",
    "    print(\"The discount is\", discount)\n",
    "else:\n",
    "    print(\"no discount\")\n"
   ]
  },
  {
   "cell_type": "markdown",
   "id": "22e8e2a6-bc0d-432a-bf14-5c958d03a0d5",
   "metadata": {},
   "source": [
    "# Write a program to calculate discount on the basis of following assumption:\n",
    "a) If purchased amount is greater than or equal to 1000, discount is 5%<br>\n",
    "b) If purchased amount is less than 1000, discount is 3%"
   ]
  },
  {
   "cell_type": "code",
   "execution_count": 9,
   "id": "a366db53-c5ea-451b-a96a-3a93960ad273",
   "metadata": {},
   "outputs": [
    {
     "name": "stdin",
     "output_type": "stream",
     "text": [
      "Enter the purchase price 500\n"
     ]
    },
    {
     "name": "stdout",
     "output_type": "stream",
     "text": [
      "The discount is 15.0\n"
     ]
    }
   ],
   "source": [
    "purchase_price = int(input(\"Enter the purchase price\"))\n",
    "if purchase_price>= 1000:\n",
    "    discount = purchase_price * 0.05\n",
    "    print(\"The discount is\", discount)\n",
    "else:\n",
    "    discount = purchase_price * 0.03\n",
    "    print(\"The discount is\", discount)"
   ]
  },
  {
   "cell_type": "markdown",
   "id": "243f32fd-5439-4932-8447-af506b3c0495",
   "metadata": {},
   "source": [
    "# Write a program to calculate discount on the basis of following assumption:\n",
    "a) If purchased amount is greater than or equal to 5000, discount is 10%<br>\n",
    "b) If purchased amount is greater than or equal to 4000 and less than 5000, discount is 7%<br>\n",
    "c) If purchased amount is greater than or equal to 3000 and less than 4000, discount is 5%<br>\n",
    "d) If purchased amount is greater than or equal to 2000 and less than 3000, discount is 3%<br>\n",
    "e) If purchased amount is less than 2000, discount is 2%"
   ]
  },
  {
   "cell_type": "code",
   "execution_count": 11,
   "id": "5e94ac65-3101-4bcb-adca-9da40c297a14",
   "metadata": {},
   "outputs": [
    {
     "name": "stdin",
     "output_type": "stream",
     "text": [
      "Enter the purchase price 200\n"
     ]
    },
    {
     "name": "stdout",
     "output_type": "stream",
     "text": [
      "The discount is 4.0\n"
     ]
    }
   ],
   "source": [
    "purchase_price = int(input(\"Enter the purchase price\"))\n",
    "if purchase_price>= 5000:\n",
    "    discount = purchase_price * 0.1\n",
    "    print(\"The discount is\", discount)\n",
    "    \n",
    "elif 4000 <= purchase_price < 5000:\n",
    "    discount = purchase_price * 0.07\n",
    "    print(\"The discount is\", discount)\n",
    "    \n",
    "elif 3000 <= purchase_price < 4000:\n",
    "    discount = purchase_price * 0.05\n",
    "    print(\"The discount is\", discount)\n",
    "\n",
    "elif 2000 <= purchase_price < 3000:\n",
    "    discount = purchase_price * 0.03\n",
    "    print(\"The discount is\", discount)\n",
    "\n",
    "elif purchase_price < 2000:\n",
    "    discount = purchase_price * 0.02\n",
    "    print(\"The discount is\", discount)"
   ]
  },
  {
   "cell_type": "markdown",
   "id": "00f541eb-82e9-4e75-a9c2-36f7ff8b0c70",
   "metadata": {},
   "source": [
    "# Write a program to calculate the simple interest on the basis of following assumption:\n",
    "a) If balance is greater than 99999, interest is 7 % <br>\n",
    "b) If balance is greater than or equal to 50000 and less than 100000 interest is 5 %<br>\n",
    "c) If balance is less than 50000, interest is 3%"
   ]
  },
  {
   "cell_type": "code",
   "execution_count": 13,
   "id": "55cae97b-4599-4f42-8195-3198cee2c6a3",
   "metadata": {},
   "outputs": [
    {
     "name": "stdin",
     "output_type": "stream",
     "text": [
      "Enter the balance (Principal):  40000\n",
      "Enter the time period in years:  5\n"
     ]
    },
    {
     "name": "stdout",
     "output_type": "stream",
     "text": [
      "The simple interest on a balance of 40000 over 5 years at an interest rate of 3% is 6000.0.\n"
     ]
    }
   ],
   "source": [
    "balance = int(input(\"Enter the balance (Principal): \"))\n",
    "time = int(input(\"Enter the time period in years: \"))\n",
    "\n",
    "if balance > 99999:\n",
    "    interest_rate = 7\n",
    "\n",
    "elif 50000 <= balance <100000 :\n",
    "    interest_rate = 5\n",
    "\n",
    "elif balance < 50000:\n",
    "    interest_rate = 3\n",
    "\n",
    "simple_interest = (balance * time * interest_rate) / 100\n",
    "\n",
    "print(f\"The simple interest on a balance of {balance} over {time} years at an interest rate of {interest_rate}% is {simple_interest}.\")\n"
   ]
  },
  {
   "cell_type": "markdown",
   "id": "cb8d07b5-483b-4a38-96dc-b8ad1da2753e",
   "metadata": {},
   "source": [
    "# Write a program to test whether a number is even or odd."
   ]
  },
  {
   "cell_type": "code",
   "execution_count": 19,
   "id": "33e87a6e-b981-4b21-ae4e-057e077a8d13",
   "metadata": {},
   "outputs": [
    {
     "name": "stdin",
     "output_type": "stream",
     "text": [
      "enter a number 1\n"
     ]
    },
    {
     "name": "stdout",
     "output_type": "stream",
     "text": [
      "1 is Odd\n"
     ]
    }
   ],
   "source": [
    "number = int(input(\"enter a number\"))\n",
    "if number % 2 == 0:\n",
    "        print(f\"{number} is even\")\n",
    "else:\n",
    "        print(f\"{number} is Odd\")"
   ]
  },
  {
   "cell_type": "markdown",
   "id": "a4650a6b-31e5-42cb-ac4c-e31fc3c20b20",
   "metadata": {},
   "source": [
    "# Admission to a professional course is subject to the following conditions:\n",
    "a) Marks in mathematics >=60<br>\n",
    "b) Marks in physics >=50<br>\n",
    "c) Marks in chemistry >=40<br>\n",
    "d) Total in all three subjects >=200<br>\n",
    "<br>\n",
    "Or\n",
    "<br>\n",
    "Total in mathematics and physics>=150\n",
    "<br>Given the marks in three subjects, write a program to process the applications to list eligible\n",
    "candidates."
   ]
  },
  {
   "cell_type": "code",
   "execution_count": 1,
   "id": "d2d0c890-4ae7-469f-a331-929f973f2d88",
   "metadata": {},
   "outputs": [
    {
     "name": "stdin",
     "output_type": "stream",
     "text": [
      "Enter marks in Mathematics:  50\n",
      "Enter marks in Physics:  90\n",
      "Enter marks in Chemistry:  80\n"
     ]
    },
    {
     "name": "stdout",
     "output_type": "stream",
     "text": [
      "The candidate is NOT eligible for admission.\n"
     ]
    }
   ],
   "source": [
    "math_marks = int(input(\"Enter marks in Mathematics: \"))\n",
    "physics_marks = int(input(\"Enter marks in Physics: \"))\n",
    "chemistry_marks = int(input(\"Enter marks in Chemistry: \"))\n",
    "\n",
    "if (math_marks >= 60 and \n",
    "    physics_marks >= 50 and \n",
    "    chemistry_marks >= 40 and \n",
    "    (math_marks + physics_marks + chemistry_marks >= 200)):\n",
    "    print(\"The candidate is eligible for admission.\")\n",
    "\n",
    "elif (math_marks + physics_marks >= 150):\n",
    "    print(\"The candidate is eligible for admission.\")\n",
    "\n",
    "else:\n",
    "    print(\"The candidate is NOT eligible for admission.\")\n"
   ]
  },
  {
   "cell_type": "markdown",
   "id": "cd3ed9ff-59b6-4d21-853f-7de0dc19315e",
   "metadata": {},
   "source": [
    "# The rates of tax on gross salary are as shown below:\n",
    "Income&nbsp;&nbsp;&nbsp;&nbsp;Tax<br>\n",
    "Less than 10,000&nbsp;&nbsp;&nbsp;&nbsp;Nill<br>\n",
    "Rs. 10,000 to 19,999&nbsp;&nbsp;&nbsp;&nbsp;10%<br>\n",
    "Rs. 20,000 to 39,999&nbsp;&nbsp;&nbsp;&nbsp;15%<br>\n",
    "Rs. 40,000 to above&nbsp;&nbsp;&nbsp;&nbsp;20%<br>\n",
    "Write a program to compute the net salary after deducting the tax for the given information\n",
    "and print the same."
   ]
  },
  {
   "cell_type": "code",
   "execution_count": 3,
   "id": "f3024c49-11b2-4e9a-8ca8-6f25b4122e4e",
   "metadata": {},
   "outputs": [
    {
     "name": "stdin",
     "output_type": "stream",
     "text": [
      "Enter the income 100000\n"
     ]
    },
    {
     "name": "stdout",
     "output_type": "stream",
     "text": [
      "The net salary is 80000.0\n"
     ]
    }
   ],
   "source": [
    "income = int(input(\"Enter the income\"))\n",
    "if income < 10000:\n",
    "    tax = 0\n",
    "    net_salary = income - tax\n",
    "    print(\"The net salary is\", net_salary)\n",
    "    \n",
    "elif 10000 <= income < 20000:\n",
    "    tax = income * 0.1\n",
    "    net_salary = income - tax\n",
    "    print(\"The net salary is\", net_salary)\n",
    "    \n",
    "elif 20000 <= income < 40000:\n",
    "    tax = income * 0.15\n",
    "    net_salary = income - tax\n",
    "    print(\"The net salary is\", net_salary)\n",
    "\n",
    "elif income >= 40000:\n",
    "    tax = income * 0.2\n",
    "    net_salary = income - tax\n",
    "    print(\"The net salary is\", net_salary)\n"
   ]
  },
  {
   "cell_type": "markdown",
   "id": "6d527805-ed6e-46e5-907c-9ebf7e293771",
   "metadata": {},
   "source": [
    "# Write a program to check whether a year entered is leap or not."
   ]
  },
  {
   "cell_type": "code",
   "execution_count": 6,
   "id": "81b01c76-994e-4fbd-9496-a50fb52e972f",
   "metadata": {},
   "outputs": [
    {
     "name": "stdin",
     "output_type": "stream",
     "text": [
      "enter the year 2002\n"
     ]
    },
    {
     "name": "stdout",
     "output_type": "stream",
     "text": [
      "2002 is not a leap year.\n"
     ]
    }
   ],
   "source": [
    "year = int(input(\"enter the year\"))\n",
    "\n",
    "if (year % 4 == 0 and year % 100 != 0) or (year % 400 == 0):\n",
    "    print(f\"{year} is a leap year.\")\n",
    "else:\n",
    "    print(f\"{year} is not a leap year.\")"
   ]
  },
  {
   "cell_type": "markdown",
   "id": "4cd5a441-8d9c-4836-9326-79933aa7e7de",
   "metadata": {},
   "source": [
    "# Write a program to display “MDS” 10 times."
   ]
  },
  {
   "cell_type": "code",
   "execution_count": 12,
   "id": "0c2cd381-9136-4134-be21-d8fe1c2bc9f8",
   "metadata": {},
   "outputs": [
    {
     "name": "stdout",
     "output_type": "stream",
     "text": [
      "1 MDS\n",
      "2 MDS\n",
      "3 MDS\n",
      "4 MDS\n",
      "5 MDS\n",
      "6 MDS\n",
      "7 MDS\n",
      "8 MDS\n",
      "9 MDS\n",
      "10 MDS\n"
     ]
    }
   ],
   "source": [
    "iteration = 1\n",
    "for i in range(0,10):\n",
    "    print(f\"{iteration} MDS\")\n",
    "    iteration += 1"
   ]
  },
  {
   "cell_type": "markdown",
   "id": "1ba16057-a8c3-4dd1-a34f-fbdfe78714b4",
   "metadata": {},
   "source": [
    "# Write a program to find sum and average of 10 numbers stored in a list."
   ]
  },
  {
   "cell_type": "code",
   "execution_count": 13,
   "id": "62e8da1a-ab6a-422e-9a57-55735ef2b0c7",
   "metadata": {},
   "outputs": [
    {
     "name": "stdout",
     "output_type": "stream",
     "text": [
      "The sum of the numbers is: 55\n",
      "The average of the numbers is: 5.5\n"
     ]
    }
   ],
   "source": [
    "numbers = [ 1, 2, 3, 4, 5, 6, 7, 8, 9, 10 ]\n",
    "\n",
    "total_sum = sum(numbers)\n",
    "average = total_sum / len(numbers)\n",
    "\n",
    "print(f\"The sum of the numbers is: {total_sum}\")\n",
    "print(f\"The average of the numbers is: {average}\")"
   ]
  },
  {
   "cell_type": "markdown",
   "id": "9d7d47bd-b46c-4a78-aa01-7c653b7cb047",
   "metadata": {},
   "source": [
    "# Write a program to display prime numbers up to 100."
   ]
  },
  {
   "cell_type": "code",
   "execution_count": 16,
   "id": "f8551e38-8594-44cb-b9b2-843c96ed4c39",
   "metadata": {},
   "outputs": [
    {
     "name": "stdout",
     "output_type": "stream",
     "text": [
      "Prime numbers up to 100 are:\n",
      "2\n",
      "3\n",
      "5\n",
      "7\n",
      "11\n",
      "13\n",
      "17\n",
      "19\n",
      "23\n",
      "29\n",
      "31\n",
      "37\n",
      "41\n",
      "43\n",
      "47\n",
      "53\n",
      "59\n",
      "61\n",
      "67\n",
      "71\n",
      "73\n",
      "79\n",
      "83\n",
      "89\n",
      "97\n"
     ]
    }
   ],
   "source": [
    "print(\"Prime numbers up to 100 are:\")\n",
    "\n",
    "for number in range(2, 101): \n",
    "    flag = 0\n",
    "    for num1 in range(2, number):\n",
    "        if number % num1 == 0:\n",
    "            flag = 1\n",
    "            break \n",
    "\n",
    "    if flag == 1:\n",
    "        continue \n",
    "    else:\n",
    "        print(number) "
   ]
  },
  {
   "cell_type": "markdown",
   "id": "dde56ece-632a-4673-b21b-f9d132b33701",
   "metadata": {},
   "source": [
    "# Write a program to find sum of digits of a number."
   ]
  },
  {
   "cell_type": "code",
   "execution_count": 18,
   "id": "de921a07-5993-4694-ae4b-bf16a9c8ad1f",
   "metadata": {},
   "outputs": [
    {
     "name": "stdin",
     "output_type": "stream",
     "text": [
      "enter a number 456\n"
     ]
    },
    {
     "name": "stdout",
     "output_type": "stream",
     "text": [
      "The sum of the digits is: 15\n"
     ]
    }
   ],
   "source": [
    "number = int(input(\"enter a number\"))\n",
    "sum_of_digits = 0\n",
    "\n",
    "while number > 0:\n",
    "    digit = number % 10 \n",
    "    sum_of_digits += digit\n",
    "    number //= 10\n",
    "\n",
    "print(f\"The sum of the digits is: {sum_of_digits}\")"
   ]
  },
  {
   "cell_type": "markdown",
   "id": "f517af15-3f6f-40f1-ba5d-387bd027d475",
   "metadata": {},
   "source": [
    "# Write a program to check whether a number is palindrome or not."
   ]
  },
  {
   "cell_type": "code",
   "execution_count": 19,
   "id": "c5c6b712-9894-4148-a186-fc99dd190af3",
   "metadata": {},
   "outputs": [
    {
     "name": "stdin",
     "output_type": "stream",
     "text": [
      "Enter a number:  102201\n"
     ]
    },
    {
     "name": "stdout",
     "output_type": "stream",
     "text": [
      "102201 is a palindrome.\n"
     ]
    }
   ],
   "source": [
    "number = int(input(\"Enter a number: \"))\n",
    "\n",
    "original_number = number\n",
    "reversed_number = 0\n",
    "\n",
    "while number > 0:\n",
    "    digit = number % 10 \n",
    "    reversed_number = reversed_number * 10 + digit  \n",
    "    number //= 10  \n",
    "\n",
    "if original_number == reversed_number:\n",
    "    print(f\"{original_number} is a palindrome.\")\n",
    "else:\n",
    "    print(f\"{original_number} is not a palindrome.\")\n"
   ]
  },
  {
   "cell_type": "markdown",
   "id": "de815b93-bf0b-40b6-8074-f4fb21f3799c",
   "metadata": {},
   "source": [
    "# Write a program to check if a number is Armstrong Number or not."
   ]
  },
  {
   "cell_type": "code",
   "execution_count": 21,
   "id": "d967b26e-c2ff-453d-8c6b-285885ae8aa8",
   "metadata": {},
   "outputs": [
    {
     "name": "stdin",
     "output_type": "stream",
     "text": [
      "Enter a number:  153\n"
     ]
    },
    {
     "name": "stdout",
     "output_type": "stream",
     "text": [
      "153 is an Armstrong number.\n"
     ]
    }
   ],
   "source": [
    "number = int(input(\"Enter a number: \"))\n",
    "\n",
    "num_digits = len(str(number))\n",
    "\n",
    "sum_of_powers = 0\n",
    "original_number = number\n",
    "\n",
    "while number > 0:\n",
    "    digit = number % 10  \n",
    "    sum_of_powers += digit ** num_digits\n",
    "    number //= 10  \n",
    "\n",
    "if sum_of_powers == original_number:\n",
    "    print(f\"{original_number} is an Armstrong number.\")\n",
    "else:\n",
    "    print(f\"{original_number} is not an Armstrong number.\")\n"
   ]
  },
  {
   "cell_type": "markdown",
   "id": "c9f8d8a9-05ce-42b0-8816-27ca600c33e3",
   "metadata": {},
   "source": [
    "# Write a program to count number of vowels in a string."
   ]
  },
  {
   "cell_type": "code",
   "execution_count": 23,
   "id": "d166ded5-33a5-46a0-b760-446dba1fdd07",
   "metadata": {},
   "outputs": [
    {
     "name": "stdin",
     "output_type": "stream",
     "text": [
      "Enter a string:  awdfsrdhtrjyytytwqwwerytewqwfsadgfnk\n"
     ]
    },
    {
     "name": "stdout",
     "output_type": "stream",
     "text": [
      "The number of vowels in the string is: 4\n"
     ]
    }
   ],
   "source": [
    "string = input(\"Enter a string: \")\n",
    "\n",
    "vowel_count = 0\n",
    "\n",
    "string = string.lower()\n",
    "\n",
    "vowels = \"aeiou\"\n",
    "\n",
    "for char in string:\n",
    "    if char in vowels:\n",
    "        vowel_count += 1\n",
    "\n",
    "print(f\"The number of vowels in the string is: {vowel_count}\")\n"
   ]
  },
  {
   "cell_type": "markdown",
   "id": "c27ef0d0-ace3-4a8c-8531-ddeb95c2946d",
   "metadata": {},
   "source": [
    "# Write a program to find smallest and largest number among 10 numbers stored in a list."
   ]
  },
  {
   "cell_type": "code",
   "execution_count": 24,
   "id": "7a7301cd-f53c-457a-a2b8-316f6bd6ef0a",
   "metadata": {},
   "outputs": [
    {
     "name": "stdin",
     "output_type": "stream",
     "text": [
      "Enter number 1:  1\n",
      "Enter number 2:  2\n",
      "Enter number 3:  3\n",
      "Enter number 4:  4\n",
      "Enter number 5:  5\n",
      "Enter number 6:  6\n",
      "Enter number 7:  7\n",
      "Enter number 8:  8\n",
      "Enter number 9:  9\n",
      "Enter number 10:  10\n"
     ]
    },
    {
     "name": "stdout",
     "output_type": "stream",
     "text": [
      "The smallest number is: 1\n",
      "The largest number is: 10\n"
     ]
    }
   ],
   "source": [
    "numbers = []\n",
    "for i in range(10):\n",
    "    num = int(input(f\"Enter number {i + 1}: \"))\n",
    "    numbers.append(num)\n",
    "\n",
    "smallest = min(numbers)\n",
    "largest = max(numbers)\n",
    "\n",
    "print(f\"The smallest number is: {smallest}\")\n",
    "print(f\"The largest number is: {largest}\")\n"
   ]
  },
  {
   "cell_type": "code",
   "execution_count": 25,
   "id": "0c14f70b-64aa-40df-a95f-baedf4326217",
   "metadata": {},
   "outputs": [
    {
     "name": "stdin",
     "output_type": "stream",
     "text": [
      "Enter number 1:  1\n",
      "Enter number 2:  2\n",
      "Enter number 3:  3\n",
      "Enter number 4:  4\n",
      "Enter number 5:  5\n",
      "Enter number 6:  6\n",
      "Enter number 7:  7\n",
      "Enter number 8:  8\n",
      "Enter number 9:  9\n",
      "Enter number 10:  10\n"
     ]
    },
    {
     "name": "stdout",
     "output_type": "stream",
     "text": [
      "The smallest number is: 1\n",
      "The largest number is: 10\n"
     ]
    }
   ],
   "source": [
    "numbers = []\n",
    "for i in range(10):\n",
    "    num = int(input(f\"Enter number {i + 1}: \"))\n",
    "    numbers.append(num)\n",
    "\n",
    "smallest = numbers[0]\n",
    "largest = numbers[0]\n",
    "\n",
    "for num in numbers[1:]:\n",
    "    if num < smallest:\n",
    "        smallest = num\n",
    "    if num > largest:\n",
    "        largest = num\n",
    "\n",
    "print(f\"The smallest number is: {smallest}\")\n",
    "print(f\"The largest number is: {largest}\")\n"
   ]
  },
  {
   "cell_type": "markdown",
   "id": "27c734d2-107d-4c7e-a2df-23a76ad72228",
   "metadata": {},
   "source": [
    "# Write a program to count even numbers and odd numbers stored in a list."
   ]
  },
  {
   "cell_type": "code",
   "execution_count": 26,
   "id": "35845928-3ddd-468b-9e76-787472e03592",
   "metadata": {},
   "outputs": [
    {
     "name": "stdin",
     "output_type": "stream",
     "text": [
      "Enter number 1:  1\n",
      "Enter number 2:  2\n",
      "Enter number 3:  3\n",
      "Enter number 4:  4\n",
      "Enter number 5:  5\n",
      "Enter number 6:  6\n",
      "Enter number 7:  7\n",
      "Enter number 8:  8\n",
      "Enter number 9:  9\n",
      "Enter number 10:  10\n"
     ]
    },
    {
     "name": "stdout",
     "output_type": "stream",
     "text": [
      "The number of even numbers: 5\n",
      "The number of odd numbers: 5\n"
     ]
    }
   ],
   "source": [
    "numbers = []\n",
    "for i in range(10):\n",
    "    num = int(input(f\"Enter number {i + 1}: \"))\n",
    "    numbers.append(num)\n",
    "    \n",
    "even_count = 0\n",
    "odd_count = 0\n",
    "\n",
    "for num in numbers:\n",
    "    if num % 2 == 0:\n",
    "        even_count += 1\n",
    "    else:\n",
    "        odd_count += 1\n",
    "\n",
    "print(f\"The number of even numbers: {even_count}\")\n",
    "print(f\"The number of odd numbers: {odd_count}\")"
   ]
  },
  {
   "cell_type": "markdown",
   "id": "466c0e2e-de49-462f-a180-4f82d2c9e11f",
   "metadata": {},
   "source": [
    "# Write a program to find sum of two matrices."
   ]
  },
  {
   "cell_type": "code",
   "execution_count": 30,
   "id": "be1874f3-5adb-4749-9534-26c875fa7033",
   "metadata": {},
   "outputs": [
    {
     "name": "stdin",
     "output_type": "stream",
     "text": [
      "Enter the number of rows for matrix 1:  1\n",
      "Enter the number of columns for matrix 1:  1\n",
      "Enter the number of rows for matrix 2:  1\n",
      "Enter the number of columns for matrix 2:  1\n"
     ]
    },
    {
     "name": "stdout",
     "output_type": "stream",
     "text": [
      "Enter the elements of matrix 1 (row-wise):\n"
     ]
    },
    {
     "name": "stdin",
     "output_type": "stream",
     "text": [
      " 1\n"
     ]
    },
    {
     "name": "stdout",
     "output_type": "stream",
     "text": [
      "Enter the elements of matrix 2 (row-wise):\n"
     ]
    },
    {
     "name": "stdin",
     "output_type": "stream",
     "text": [
      " 2\n"
     ]
    },
    {
     "name": "stdout",
     "output_type": "stream",
     "text": [
      "Result of matrix addition:\n",
      "[3]\n"
     ]
    }
   ],
   "source": [
    "def matrix_add(A, B):\n",
    "    rows = len(A)\n",
    "    cols = len(A[0]) if rows > 0 else 0\n",
    "\n",
    "    # Initialize the result matrix with zeros\n",
    "    result = [[0] * cols for _ in range(rows)]\n",
    "\n",
    "    # Perform matrix addition\n",
    "    for i in range(rows):\n",
    "        for j in range(cols):\n",
    "            result[i][j] = A[i][j] + B[i][j]\n",
    "\n",
    "    return result\n",
    "\n",
    "i = int(input(\"Enter the number of rows for matrix 1: \"))\n",
    "j = int(input(\"Enter the number of columns for matrix 1: \"))\n",
    "k = int(input(\"Enter the number of rows for matrix 2: \"))\n",
    "l = int(input(\"Enter the number of columns for matrix 2: \"))\n",
    "\n",
    "if i == j == k == l:\n",
    "    matrix1 = []\n",
    "    matrix2 = []\n",
    "    \n",
    "    print(\"Enter the elements of matrix 1 (row-wise):\")\n",
    "    for row in range(i):\n",
    "        matrix1.append([int(x) for x in input().split()])\n",
    "    \n",
    "    print(\"Enter the elements of matrix 2 (row-wise):\")\n",
    "    for row in range(k):\n",
    "        matrix2.append([int(x) for x in input().split()])\n",
    "\n",
    "    result = matrix_add(matrix1, matrix2)\n",
    "\n",
    "    print(\"Result of matrix addition:\")\n",
    "    for row in result:\n",
    "        print(row)\n",
    "else:\n",
    "    print(\"Invalid input: Both matrices must have the same dimensions.\")"
   ]
  },
  {
   "cell_type": "markdown",
   "id": "5315dcb8-4734-4a9c-b875-ce7ff26cf88d",
   "metadata": {},
   "source": [
    "# Write a program to find product of two matrices."
   ]
  },
  {
   "cell_type": "code",
   "execution_count": 31,
   "id": "94f86af8-0e1b-42be-a959-6226170a033b",
   "metadata": {},
   "outputs": [
    {
     "name": "stdin",
     "output_type": "stream",
     "text": [
      "Enter the number of rows for matrix 1:  1\n",
      "Enter the number of columns for matrix 1:  1\n",
      "Enter the number of rows for matrix 2:  1\n",
      "Enter the number of columns for matrix 2:  1\n"
     ]
    },
    {
     "name": "stdout",
     "output_type": "stream",
     "text": [
      "Enter the elements of matrix 1 (row-wise):\n"
     ]
    },
    {
     "name": "stdin",
     "output_type": "stream",
     "text": [
      " 1\n"
     ]
    },
    {
     "name": "stdout",
     "output_type": "stream",
     "text": [
      "Enter the elements of matrix 2 (row-wise):\n"
     ]
    },
    {
     "name": "stdin",
     "output_type": "stream",
     "text": [
      " 1\n"
     ]
    },
    {
     "name": "stdout",
     "output_type": "stream",
     "text": [
      "Result of matrix multiplication:\n",
      "[1]\n"
     ]
    }
   ],
   "source": [
    "#Doing Matrix Multiplication by taking the input from user\n",
    "def matrix_multiply(A, B):\n",
    "    rows_A = len(A)\n",
    "    cols_A = len(A[0]) if rows_A > 0 else 0\n",
    "    rows_B = len(B)\n",
    "    cols_B = len(B[0]) if rows_B > 0 else 0\n",
    "\n",
    "    result = [[0] * cols_B for _ in range(rows_A)]\n",
    "\n",
    "    for i in range(rows_A):\n",
    "        for j in range(cols_B):\n",
    "            for k in range(cols_A):\n",
    "                result[i][j] += A[i][k] * B[k][j]\n",
    "\n",
    "    return result\n",
    "\n",
    "i = int(input(\"Enter the number of rows for matrix 1: \"))\n",
    "j = int(input(\"Enter the number of columns for matrix 1: \"))\n",
    "k = int(input(\"Enter the number of rows for matrix 2: \"))\n",
    "l = int(input(\"Enter the number of columns for matrix 2: \"))\n",
    "\n",
    "if j == k:\n",
    "    matrix1 = []\n",
    "    matrix2 = []\n",
    "    \n",
    "    print(\"Enter the elements of matrix 1 (row-wise):\")\n",
    "    for row in range(i):\n",
    "        matrix1.append([int(x) for x in input().split()])\n",
    "    \n",
    "    print(\"Enter the elements of matrix 2 (row-wise):\")\n",
    "    for row in range(k):\n",
    "        matrix2.append([int(x) for x in input().split()])\n",
    "\n",
    "    result = matrix_multiply(matrix1, matrix2)\n",
    "\n",
    "    print(\"Result of matrix multiplication:\")\n",
    "    for row in result:\n",
    "        print(row)\n",
    "else:\n",
    "    print(\"Invalid input: Number of columns in matrix 1 must equal number of rows in matrix 2.\")\n"
   ]
  },
  {
   "cell_type": "markdown",
   "id": "42b7036c-b909-4f9e-9288-3e24168520fb",
   "metadata": {},
   "source": [
    "# Write a program using list comprehension to find sum of only even numbers."
   ]
  },
  {
   "cell_type": "code",
   "execution_count": 32,
   "id": "bc85052b-aace-4be9-9bd5-e4800541e5c8",
   "metadata": {},
   "outputs": [
    {
     "name": "stdin",
     "output_type": "stream",
     "text": [
      "Enter numbers separated by spaces:  1 2 3 4 5 6 7 8 9 10\n"
     ]
    },
    {
     "name": "stdout",
     "output_type": "stream",
     "text": [
      "Sum of even numbers: 30\n"
     ]
    }
   ],
   "source": [
    "numbers = [int(x) for x in input(\"Enter numbers separated by spaces: \").split()]\n",
    "\n",
    "even_sum = sum(num for num in numbers if num % 2 == 0)\n",
    "\n",
    "print(\"Sum of even numbers:\", even_sum)"
   ]
  },
  {
   "cell_type": "markdown",
   "id": "e51675b0-0518-420c-81de-7802672d23b0",
   "metadata": {},
   "source": [
    "# Write a program using function with return type to find sum of two numbers."
   ]
  },
  {
   "cell_type": "code",
   "execution_count": 33,
   "id": "7cfb4b02-b193-4b27-a502-24b85ece7788",
   "metadata": {},
   "outputs": [
    {
     "name": "stdin",
     "output_type": "stream",
     "text": [
      "Enter the first number:  2\n",
      "Enter the second number:  3\n"
     ]
    },
    {
     "name": "stdout",
     "output_type": "stream",
     "text": [
      "The sum of 2 and 3 is: 5\n"
     ]
    }
   ],
   "source": [
    "def add_numbers(num1, num2):\n",
    "    return num1 + num2\n",
    "\n",
    "number1 = int(input(\"Enter the first number: \"))\n",
    "number2 = int(input(\"Enter the second number: \"))\n",
    "\n",
    "result = add_numbers(number1, number2)\n",
    "print(\"The sum of\", number1, \"and\", number2, \"is:\", result)\n"
   ]
  },
  {
   "cell_type": "markdown",
   "id": "120617f6-c1b9-4633-a4a5-9c9ca166e493",
   "metadata": {},
   "source": [
    "# Write a program using recursive function to find factorial of a number."
   ]
  },
  {
   "cell_type": "code",
   "execution_count": 35,
   "id": "2eaccaaf-fe1c-45db-8f0a-70142dca89f1",
   "metadata": {},
   "outputs": [
    {
     "name": "stdin",
     "output_type": "stream",
     "text": [
      "Enter a number:  3\n"
     ]
    },
    {
     "name": "stdout",
     "output_type": "stream",
     "text": [
      "The factorial of 3 is: 6\n"
     ]
    }
   ],
   "source": [
    "def factorial(n):\n",
    "    if n == 0 or n == 1:\n",
    "        return 1\n",
    "    else:\n",
    "        return n * factorial(n - 1)\n",
    "\n",
    "number = int(input(\"Enter a number: \"))\n",
    "if number < 0:\n",
    "    print(\"Factorial is not defined for negative numbers.\")\n",
    "else:\n",
    "    result = factorial(number)\n",
    "    print(f\"The factorial of {number} is: {result}\")"
   ]
  },
  {
   "cell_type": "markdown",
   "id": "8ada70e4-6a21-49a9-b198-48af9be637ae",
   "metadata": {},
   "source": [
    "# Write a program using recursive function to find nth Fibonacci number."
   ]
  },
  {
   "cell_type": "code",
   "execution_count": 36,
   "id": "32d86385-0030-4636-8889-c597e61a137a",
   "metadata": {},
   "outputs": [
    {
     "name": "stdin",
     "output_type": "stream",
     "text": [
      "Enter a non-negative integer to find the nth Fibonacci number:  4\n"
     ]
    },
    {
     "name": "stdout",
     "output_type": "stream",
     "text": [
      "The 4th Fibonacci number is: 3\n"
     ]
    }
   ],
   "source": [
    "def fibonacci(n):\n",
    "    if n == 0:\n",
    "        return 0\n",
    "    elif n == 1:\n",
    "        return 1\n",
    "    else:\n",
    "        return fibonacci(n - 1) + fibonacci(n - 2)\n",
    "\n",
    "number = int(input(\"Enter a non-negative integer to find the nth Fibonacci number: \"))\n",
    "\n",
    "if number < 0:\n",
    "    print(\"Fibonacci is not defined for negative numbers.\")\n",
    "else:\n",
    "    result = fibonacci(number)\n",
    "    print(f\"The {number}th Fibonacci number is: {result}\")\n"
   ]
  },
  {
   "cell_type": "markdown",
   "id": "aa3fe26b-9670-4607-913b-4d4506d22aa3",
   "metadata": {},
   "source": [
    "# Create a class Rectangle containing instance variables length and breadth. The class also contains two instance methods area() and perimeter() to find area and perimeter of rectangles respectively. Use this class to find area and perimeter of two different rectangles."
   ]
  },
  {
   "cell_type": "code",
   "execution_count": 38,
   "id": "015722eb-8a05-4cd2-8b67-f25a660b787e",
   "metadata": {},
   "outputs": [
    {
     "name": "stdout",
     "output_type": "stream",
     "text": [
      "Rectangle 1 :- Length: 5, Breadth: 3\n",
      "Area: 15, Perimeter: 16\n",
      "Rectangle 2 :- Length: 7, Breadth: 4\n",
      "Area: 28, Perimeter: 22\n"
     ]
    }
   ],
   "source": [
    "class Rectangle:\n",
    "    def __init__(self, length, breadth):\n",
    "        \"\"\"Initialize the length and breadth of the rectangle.\"\"\"\n",
    "        self.length = length\n",
    "        self.breadth = breadth\n",
    "\n",
    "    def area(self):\n",
    "        \"\"\"Calculate and return the area of the rectangle.\"\"\"\n",
    "        return self.length * self.breadth\n",
    "\n",
    "    def perimeter(self):\n",
    "        \"\"\"Calculate and return the perimeter of the rectangle.\"\"\"\n",
    "        return 2 * (self.length + self.breadth)\n",
    "\n",
    "\n",
    "rectangle1 = Rectangle(5, 3)  # Length: 5, Breadth: 3\n",
    "rectangle2 = Rectangle(7, 4)  # Length: 7, Breadth: 4\n",
    "\n",
    "area1 = rectangle1.area()\n",
    "perimeter1 = rectangle1.perimeter()\n",
    "\n",
    "area2 = rectangle2.area()\n",
    "perimeter2 = rectangle2.perimeter()\n",
    "\n",
    "print(f\"Rectangle 1 :- Length: {rectangle1.length}, Breadth: {rectangle1.breadth}\")\n",
    "print(f\"Area: {area1}, Perimeter: {perimeter1}\")\n",
    "\n",
    "print(f\"Rectangle 2 :- Length: {rectangle2.length}, Breadth: {rectangle2.breadth}\")\n",
    "print(f\"Area: {area2}, Perimeter: {perimeter2}\")\n"
   ]
  },
  {
   "cell_type": "markdown",
   "id": "4990ea8e-af6d-426a-af05-06c8a0e9b772",
   "metadata": {},
   "source": [
    "# Create a class Circle containing an instance variable radius. The class also contains two instance methods area() and circumference() to find area and circumference of circles respectively. Use this class to find area and circumference of two different circles. Use PI as a class variable."
   ]
  },
  {
   "cell_type": "code",
   "execution_count": 40,
   "id": "c535317f-7adf-4d32-b637-0d538e00619a",
   "metadata": {},
   "outputs": [
    {
     "name": "stdout",
     "output_type": "stream",
     "text": [
      "Circle 1 :- Radius: 5\n",
      "Area: 78.54, Circumference: 31.42\n",
      "Circle 2 :- Radius: 10\n",
      "Area: 314.16, Circumference: 62.83\n"
     ]
    }
   ],
   "source": [
    "import math\n",
    "\n",
    "class Circle:\n",
    "    PI = math.pi\n",
    "\n",
    "    def __init__(self, radius):\n",
    "        self.radius = radius\n",
    "\n",
    "    def area(self):\n",
    "        return Circle.PI * (self.radius ** 2)\n",
    "\n",
    "    def circumference(self):\n",
    "        return 2 * Circle.PI * self.radius\n",
    "\n",
    "circle1 = Circle(5)  \n",
    "circle2 = Circle(10)  \n",
    "\n",
    "area1 = circle1.area()\n",
    "circumference1 = circle1.circumference()\n",
    "\n",
    "area2 = circle2.area()\n",
    "circumference2 = circle2.circumference()\n",
    "\n",
    "print(f\"Circle 1 :- Radius: {circle1.radius}\")\n",
    "print(f\"Area: {area1:.2f}, Circumference: {circumference1:.2f}\")\n",
    "\n",
    "print(f\"Circle 2 :- Radius: {circle2.radius}\")\n",
    "print(f\"Area: {area2:.2f}, Circumference: {circumference2:.2f}\")\n"
   ]
  },
  {
   "cell_type": "markdown",
   "id": "410d14e7-9d8f-45b7-a6b7-6d6faec7b1ae",
   "metadata": {},
   "source": [
    "# Create a class Box with instance variables width, height and depth. The class also contains instance methods volume() and surface_area() to find volume and surface area of boxes respectively. Use this class to find volume and surface area of two different boxes."
   ]
  },
  {
   "cell_type": "code",
   "execution_count": 42,
   "id": "4c4944bd-3a3d-422a-bc31-3e461d53c9c9",
   "metadata": {},
   "outputs": [
    {
     "name": "stdout",
     "output_type": "stream",
     "text": [
      "Box 1 :- Width: 3, Height: 4, Depth: 5\n",
      "Volume: 60, Surface Area: 94\n",
      "Box 2 :- Width: 6, Height: 7, Depth: 8\n",
      "Volume: 336, Surface Area: 292\n"
     ]
    }
   ],
   "source": [
    "class Box:\n",
    "    def __init__(self, width, height, depth):\n",
    "        self.width = width\n",
    "        self.height = height\n",
    "        self.depth = depth\n",
    "\n",
    "    def volume(self):\n",
    "        return self.width * self.height * self.depth\n",
    "\n",
    "    def surface_area(self):\n",
    "        return 2 * (self.width * self.height + self.height * self.depth + self.depth * self.width)\n",
    "\n",
    "\n",
    "box1 = Box(3, 4, 5) \n",
    "box2 = Box(6, 7, 8) \n",
    "\n",
    "volume1 = box1.volume()\n",
    "surface_area1 = box1.surface_area()\n",
    "\n",
    "volume2 = box2.volume()\n",
    "surface_area2 = box2.surface_area()\n",
    "\n",
    "print(f\"Box 1 :- Width: {box1.width}, Height: {box1.height}, Depth: {box1.depth}\")\n",
    "print(f\"Volume: {volume1}, Surface Area: {surface_area1}\")\n",
    "\n",
    "print(f\"Box 2 :- Width: {box2.width}, Height: {box2.height}, Depth: {box2.depth}\")\n",
    "print(f\"Volume: {volume2}, Surface Area: {surface_area2}\")\n"
   ]
  },
  {
   "cell_type": "markdown",
   "id": "afce66dc-a587-427e-be9c-57d2bddeb744",
   "metadata": {},
   "source": [
    "# Create a class Time with three instance variables hours, minutes, and seconds. Add instance methods display() to display the time in hh:mm:ss format and add() to add two time objects. Use this class to add and display two different time objects."
   ]
  },
  {
   "cell_type": "code",
   "execution_count": 1,
   "id": "6e4b9d65-c0e5-4d83-b9ef-1771bca7e077",
   "metadata": {},
   "outputs": [
    {
     "name": "stdout",
     "output_type": "stream",
     "text": [
      "Time 1:\n",
      "05:45:30\n",
      "Time 2:\n",
      "03:50:40\n",
      "Resultant Time after adding:\n",
      "09:36:10\n"
     ]
    }
   ],
   "source": [
    "class Time:\n",
    "    def __init__(self, hours = 0, minutes = 0, seconds = 0):\n",
    "        self.hours = hours\n",
    "        self.minutes = minutes\n",
    "        self.seconds = seconds\n",
    "\n",
    "    def display(self):\n",
    "        print(f\"{self.hours:02}:{self.minutes:02}:{self.seconds:02}\")\n",
    "\n",
    "    def add(self, other_time):\n",
    "        new_seconds = self.seconds + other_time.seconds\n",
    "        new_minutes = self.minutes + other_time.minutes + new_seconds // 60\n",
    "        new_hours = self.hours + other_time.hours + new_minutes // 60\n",
    "\n",
    "        new_seconds = new_seconds % 60\n",
    "        new_minutes = new_minutes % 60\n",
    "        new_hours = new_hours % 24  \n",
    "        \n",
    "        return Time(new_hours, new_minutes, new_seconds)\n",
    "\n",
    "\n",
    "time1 = Time(5, 45, 30)  \n",
    "time2 = Time(3, 50, 40)  \n",
    "\n",
    "print(\"Time 1:\")\n",
    "time1.display()\n",
    "\n",
    "print(\"Time 2:\")\n",
    "time2.display()\n",
    "\n",
    "result_time = time1.add(time2)\n",
    "\n",
    "print(\"Resultant Time after adding:\")\n",
    "result_time.display()"
   ]
  },
  {
   "cell_type": "markdown",
   "id": "e919528a-3e50-46ad-92d9-61aa96ac55bc",
   "metadata": {},
   "source": [
    "# Create a class Distance containing instance variables feet and inches. The class also contains instance methods add() and compare() to add and compare two distance objects respectively. Use this class to create two different distance objects and add and compare these two distance objects."
   ]
  },
  {
   "cell_type": "code",
   "execution_count": 2,
   "id": "0e763c2f-3734-40ee-b875-ef7f1e72763d",
   "metadata": {},
   "outputs": [
    {
     "name": "stdout",
     "output_type": "stream",
     "text": [
      "Distance 1:\n",
      "5 feet, 10 inches\n",
      "Distance 2:\n",
      "6 feet, 8 inches\n",
      "Resultant Distance after adding:\n",
      "12 feet, 6 inches\n",
      "Second distance is greater.\n"
     ]
    }
   ],
   "source": [
    "class Distance:\n",
    "    def __init__(self, feet=0, inches=0):\n",
    "        self.feet = feet\n",
    "        self.inches = inches\n",
    "        self.normalize()\n",
    "\n",
    "    def normalize(self):\n",
    "       if self.inches >= 12:\n",
    "            self.feet += self.inches // 12\n",
    "            self.inches = self.inches % 12\n",
    "\n",
    "    def display(self):\n",
    "        print(f\"{self.feet} feet, {self.inches} inches\")\n",
    "\n",
    "    def add(self, other_distance):\n",
    "        new_feet = self.feet + other_distance.feet\n",
    "        new_inches = self.inches + other_distance.inches\n",
    "        result_distance = Distance(new_feet, new_inches)\n",
    "        result_distance.normalize() \n",
    "        return result_distance\n",
    "\n",
    "    def compare(self, other_distance):\n",
    "        total_inches_self = self.feet * 12 + self.inches\n",
    "        total_inches_other = other_distance.feet * 12 + other_distance.inches\n",
    "\n",
    "        if total_inches_self > total_inches_other:\n",
    "            return \"First distance is greater.\"\n",
    "        elif total_inches_self < total_inches_other:\n",
    "            return \"Second distance is greater.\"\n",
    "        else:\n",
    "            return \"Both distances are equal.\"\n",
    "\n",
    "\n",
    "distance1 = Distance(5, 10) \n",
    "distance2 = Distance(6, 8)   \n",
    "\n",
    "print(\"Distance 1:\")\n",
    "distance1.display()\n",
    "\n",
    "print(\"Distance 2:\")\n",
    "distance2.display()\n",
    "\n",
    "result_distance = distance1.add(distance2)\n",
    "\n",
    "\n",
    "print(\"Resultant Distance after adding:\")\n",
    "result_distance.display()\n",
    "\n",
    "\n",
    "comparison_result = distance1.compare(distance2)\n",
    "print(comparison_result)\n"
   ]
  },
  {
   "cell_type": "markdown",
   "id": "ac8059c9-c1aa-4cf0-8486-1a87c1267bb7",
   "metadata": {},
   "source": [
    "# Create a class Student with instance variables name, roll_number, and marks in five subjects. Add three instance methods in this class to calculate total(), percentage(), and division() of the marks obtained by the students. Use this class to find total marks obtained, percentage, and division of five students."
   ]
  },
  {
   "cell_type": "code",
   "execution_count": 4,
   "id": "58428007-f0b3-4eee-9f74-0c28109c6984",
   "metadata": {},
   "outputs": [
    {
     "name": "stdout",
     "output_type": "stream",
     "text": [
      "Name: Ram\n",
      "Roll Number: 1\n",
      "Total Marks: 417\n",
      "Percentage: 83.40%\n",
      "Division: First Division\n",
      "------------------------------\n",
      "Name: Shyam\n",
      "Roll Number: 2\n",
      "Total Marks: 327\n",
      "Percentage: 65.40%\n",
      "Division: First Division\n",
      "------------------------------\n",
      "Name: Hari\n",
      "Roll Number: 3\n",
      "Total Marks: 275\n",
      "Percentage: 55.00%\n",
      "Division: Second Division\n",
      "------------------------------\n",
      "Name: Gita\n",
      "Roll Number: 4\n",
      "Total Marks: 418\n",
      "Percentage: 83.60%\n",
      "Division: First Division\n",
      "------------------------------\n",
      "Name: Sita\n",
      "Roll Number: 5\n",
      "Total Marks: 191\n",
      "Percentage: 38.20%\n",
      "Division: Third Division\n",
      "------------------------------\n"
     ]
    }
   ],
   "source": [
    "class Student:\n",
    "    def __init__(self, name, roll_number, marks):\n",
    "        self.name = name\n",
    "        self.roll_number = roll_number\n",
    "        self.marks = marks\n",
    "\n",
    "    def total(self):\n",
    "        return sum(self.marks)\n",
    "\n",
    "    def percentage(self):\n",
    "        total_marks = self.total()\n",
    "        return (total_marks / 500) * 100  # Assuming each subject is out of 100\n",
    "\n",
    "    def division(self):\n",
    "        percent = self.percentage()\n",
    "        if percent >= 60:\n",
    "            return \"First Division\"\n",
    "        elif percent >= 45:\n",
    "            return \"Second Division\"\n",
    "        elif percent >= 33:\n",
    "            return \"Third Division\"\n",
    "        else:\n",
    "            return \"Fail\"\n",
    "\n",
    "    def display(self):\n",
    "        print(f\"Name: {self.name}\")\n",
    "        print(f\"Roll Number: {self.roll_number}\")\n",
    "        print(f\"Total Marks: {self.total()}\")\n",
    "        print(f\"Percentage: {self.percentage():.2f}%\")\n",
    "        print(f\"Division: {self.division()}\")\n",
    "        print(\"-\" * 30)\n",
    "\n",
    "\n",
    "student1 = Student(\"Ram\", 1, [85, 90, 78, 88, 76])\n",
    "student2 = Student(\"Shyam\", 2, [65, 70, 58, 68, 66])\n",
    "student3 = Student(\"Hari\", 3, [45, 55, 65, 58, 52])\n",
    "student4 = Student(\"Gita\", 4, [75, 85, 80, 90, 88])\n",
    "student5 = Student(\"Sita\", 5, [35, 40, 45, 33, 38])\n",
    "\n",
    "students = [student1, student2, student3, student4, student5]\n",
    "\n",
    "for student in students:\n",
    "    student.display()\n"
   ]
  },
  {
   "cell_type": "markdown",
   "id": "b715c9a8-b291-4e65-8dac-83688c788285",
   "metadata": {},
   "source": [
    "# Create a parent class Bonus with instance variables sales_id and sales_amount. Add get_bonus method that calculates a salesperson’s bonus using the foumula bonus = sales * 0.05. Create a child class named PremiumBonus from Bonus. The child class’s get_premium_bonus() method should calculate the bonus using the formula bonus = sales * 0.05 + (sales – 2500) * 0.01. Now, create an object of PremiumBonus class and use this object to find both bonus and premium bonus."
   ]
  },
  {
   "cell_type": "code",
   "execution_count": 7,
   "id": "a38c6f97-d9a9-4a55-a161-086a0c0f1435",
   "metadata": {},
   "outputs": [
    {
     "name": "stdout",
     "output_type": "stream",
     "text": [
      "Salesperson ID: 101\n",
      "Sales Amount: 5000\n",
      "Regular Bonus: 250.0\n",
      "Premium Bonus: 275.0\n"
     ]
    }
   ],
   "source": [
    "class Bonus:\n",
    "    def __init__(self, sales_id, sales_amount):\n",
    "        self.sales_id = sales_id\n",
    "        self.sales_amount = sales_amount\n",
    "\n",
    "    def get_bonus(self):\n",
    "        bonus = self.sales_amount * 0.05\n",
    "        return bonus\n",
    "\n",
    "class PremiumBonus(Bonus):\n",
    "    def __init__(self, sales_id, sales_amount):\n",
    "        super().__init__(sales_id, sales_amount)\n",
    "\n",
    "    def get_premium_bonus(self):\n",
    "        if self.sales_amount > 2500:\n",
    "            premium_bonus = self.get_bonus() + (self.sales_amount - 2500) * 0.01\n",
    "        else:\n",
    "            premium_bonus = self.get_bonus()  \n",
    "        return premium_bonus\n",
    "\n",
    "\n",
    "salesperson = PremiumBonus(sales_id=101, sales_amount=5000)\n",
    "\n",
    "print(f\"Salesperson ID: {salesperson.sales_id}\")\n",
    "print(f\"Sales Amount: {salesperson.sales_amount:}\")\n",
    "print(f\"Regular Bonus: {salesperson.get_bonus():}\")\n",
    "print(f\"Premium Bonus: {salesperson.get_premium_bonus():}\")"
   ]
  },
  {
   "cell_type": "markdown",
   "id": "f20c5ef3-0e8a-41bf-b344-10d983b610ae",
   "metadata": {},
   "source": [
    "# Overload + operator in Q.N.25 to add two distance objects."
   ]
  },
  {
   "cell_type": "code",
   "execution_count": 16,
   "id": "5b82034e-892a-467a-aa50-26a73076cb0d",
   "metadata": {},
   "outputs": [
    {
     "name": "stdin",
     "output_type": "stream",
     "text": [
      "Enter a non-negative integer to find the nth Fibonacci number:  5\n"
     ]
    },
    {
     "name": "stdout",
     "output_type": "stream",
     "text": [
      "The 5th Fibonacci number is: 5\n"
     ]
    },
    {
     "name": "stdin",
     "output_type": "stream",
     "text": [
      "Enter the first distance in meters:  20\n",
      "Enter the second distance in meters:  30\n"
     ]
    },
    {
     "name": "stdout",
     "output_type": "stream",
     "text": [
      "The total distance is: 50.0 meters\n"
     ]
    }
   ],
   "source": [
    "def fibonacci(n):\n",
    "    if n == 0:\n",
    "        return 0\n",
    "    elif n == 1:\n",
    "        return 1\n",
    "    else:\n",
    "        return fibonacci(n - 1) + fibonacci(n - 2)\n",
    "\n",
    "class Distance:\n",
    "    def __init__(self, meters=0):\n",
    "        self.meters = meters\n",
    "\n",
    "    def __add__(self, other):\n",
    "        if isinstance(other, Distance):\n",
    "            return Distance(self.meters + other.meters)\n",
    "        return NotImplemented\n",
    "\n",
    "    def __str__(self):\n",
    "        return f\"{self.meters} meters\"\n",
    "\n",
    "if __name__ == \"__main__\":\n",
    "    number = int(input(\"Enter a non-negative integer to find the nth Fibonacci number: \"))\n",
    "    \n",
    "    if number < 0:\n",
    "        print(\"Fibonacci is not defined for negative numbers.\")\n",
    "    else:\n",
    "        result = fibonacci(number)\n",
    "        print(f\"The {number}th Fibonacci number is: {result}\")\n",
    "\n",
    "    distance1 = Distance(float(input(\"Enter the first distance in meters: \")))\n",
    "    distance2 = Distance(float(input(\"Enter the second distance in meters: \")))\n",
    "    \n",
    "    total_distance = distance1 + distance2\n",
    "    print(f\"The total distance is: {total_distance}\")\n"
   ]
  },
  {
   "cell_type": "markdown",
   "id": "3d0d2c75-9dcb-4940-95a1-36c4f90f1ab7",
   "metadata": {},
   "source": [
    "# Write a program that reads a text file and displays the following: \n",
    "a. Number of characters<br>\n",
    "b. Number of vowels<br>\n",
    "c. Number of consonants<br>\n",
    "d. Number of words<br>\n",
    "e. Number of lines<br>"
   ]
  },
  {
   "cell_type": "code",
   "execution_count": 15,
   "id": "42926318-e66d-4995-9f8a-6dbe87d48e4b",
   "metadata": {},
   "outputs": [
    {
     "name": "stdout",
     "output_type": "stream",
     "text": [
      "Number of characters (including special characters): 1120\n",
      "Number of vowels: 230\n",
      "Number of consonants: 890\n",
      "Number of special characters: 0\n",
      "Number of words: 200\n",
      "Number of lines: 10\n"
     ]
    }
   ],
   "source": [
    "def process_file(filename):\n",
    "    try:\n",
    "        with open(filename, 'r') as file:\n",
    "            text = file.read()\n",
    "\n",
    "            num_characters = 0\n",
    "            num_vowels = 0\n",
    "            num_consonants = 0\n",
    "            num_special_characters = 0\n",
    "            num_words = 0\n",
    "            num_lines = 0\n",
    "\n",
    "            vowels = ['a', 'e', 'i', 'o', 'u']\n",
    "\n",
    "            for char in text:\n",
    "                if char.isalpha():  \n",
    "                    num_characters += 1  \n",
    "                    if char.lower() in vowels:  \n",
    "                        num_vowels += 1\n",
    "                    else:  \n",
    "                        num_consonants += 1\n",
    "                elif not char.isspace():  \n",
    "                    num_special_characters += 1\n",
    "                    num_characters += 1\n",
    "\n",
    "            num_words = len(text.split())  \n",
    "            num_lines = text.count('\\n') + 1  \n",
    "\n",
    "            print(f\"Number of characters (including special characters): {num_characters}\")\n",
    "            print(f\"Number of vowels: {num_vowels}\")\n",
    "            print(f\"Number of consonants: {num_consonants}\")\n",
    "            print(f\"Number of special characters: {num_special_characters}\")\n",
    "            print(f\"Number of words: {num_words}\")\n",
    "            print(f\"Number of lines: {num_lines}\")\n",
    "\n",
    "    except FileNotFoundError:\n",
    "        print(\"The specified file was not found.\")\n",
    "\n",
    "filename = r\"C:\\Users\\shree\\hello\\random_text.txt\"\n",
    "\n",
    "process_file(filename)\n"
   ]
  },
  {
   "cell_type": "markdown",
   "id": "65825804-3208-430e-b3f9-1aeed9d3c5f8",
   "metadata": {},
   "source": [
    "# Write a program that reads a text file and writes its output in another text file. The output should contain\n",
    "a. Number of letters<br>\n",
    "b. Number of digits, and<br>\n",
    "c. Number of other characters"
   ]
  },
  {
   "cell_type": "code",
   "execution_count": 12,
   "id": "616bc5a4-be02-4059-a610-e5b7f921688e",
   "metadata": {},
   "outputs": [
    {
     "name": "stdout",
     "output_type": "stream",
     "text": [
      "Output written to 'C:\\Users\\shree\\hello\\output.txt' successfully!\n"
     ]
    }
   ],
   "source": [
    "def process_file_and_write_output(input_filename, output_filename):\n",
    "    try:\n",
    "        with open(input_filename, 'r') as file:\n",
    "            text = file.read()\n",
    "\n",
    "            num_letters = 0\n",
    "            num_digits = 0\n",
    "            num_other_characters = 0\n",
    "\n",
    "            for char in text:\n",
    "                if char.isalpha(): \n",
    "                    num_letters += 1\n",
    "                elif char.isdigit():  \n",
    "                    num_digits += 1\n",
    "                elif not char.isspace(): \n",
    "                    num_other_characters += 1\n",
    "\n",
    "            with open(output_filename, 'w') as output_file:\n",
    "                output_file.write(f\"Number of letters: {num_letters}\\n\")\n",
    "                output_file.write(f\"Number of digits: {num_digits}\\n\")\n",
    "                output_file.write(f\"Number of other characters: {num_other_characters}\\n\")\n",
    "\n",
    "            print(f\"Output written to '{output_filename}' successfully!\")\n",
    "\n",
    "    except FileNotFoundError:\n",
    "        print(\"The specified input file was not found.\")\n",
    "\n",
    "input_filename = r\"C:\\Users\\shree\\hello\\sample_input.txt\"\n",
    "output_filename = r\"C:\\Users\\shree\\hello\\output.txt\"\n",
    "\n",
    "process_file_and_write_output(input_filename, output_filename)\n"
   ]
  },
  {
   "cell_type": "markdown",
   "id": "5959dbb5-ec74-4ec0-ad9c-52a237528f45",
   "metadata": {},
   "source": [
    "# Write a program that reads the file containing texts and counts the number of whitespaces."
   ]
  },
  {
   "cell_type": "code",
   "execution_count": 13,
   "id": "afa1d0c5-7c6c-4b2d-8d21-fd7d2be14e2a",
   "metadata": {},
   "outputs": [
    {
     "name": "stdout",
     "output_type": "stream",
     "text": [
      "Number of whitespace characters: 3399\n"
     ]
    }
   ],
   "source": [
    "def count_whitespace_in_file(filename):\n",
    "    try:\n",
    "        with open(filename, 'r') as file:\n",
    "            text = file.read()\n",
    "            \n",
    "            whitespace_count = sum(1 for char in text if char.isspace())\n",
    "            print(f\"Number of whitespace characters: {whitespace_count}\")\n",
    "\n",
    "    except FileNotFoundError:\n",
    "        print(\"The specified file was not found.\")\n",
    "\n",
    "filename = r\"C:\\Users\\shree\\hello\\sample_input.txt\"\n",
    "\n",
    "count_whitespace_in_file(filename)\n"
   ]
  },
  {
   "cell_type": "markdown",
   "id": "2a4d423b-920f-4930-8b22-48b42570904c",
   "metadata": {},
   "source": [
    "# Write a program to find sum and average of numbers stored in a file. Create a separate file to write output."
   ]
  },
  {
   "cell_type": "code",
   "execution_count": 14,
   "id": "d5efb2b4-7729-4f38-b9d1-c3a086313c1a",
   "metadata": {},
   "outputs": [
    {
     "name": "stdout",
     "output_type": "stream",
     "text": [
      "Output written to 'C:\\Users\\shree\\hello\\output_numbers.txt' successfully!\n"
     ]
    }
   ],
   "source": [
    "def calculate_sum_and_average(filename, output_filename):\n",
    "    try:\n",
    "        with open(filename, 'r') as file:\n",
    "            numbers = [int(line.strip()) for line in file if line.strip().isdigit()]\n",
    "        \n",
    "        total_sum = sum(numbers)\n",
    "        average = total_sum / len(numbers) if numbers else 0\n",
    "        \n",
    "        with open(output_filename, 'w') as output_file:\n",
    "            output_file.write(f\"Sum: {total_sum}\\n\")\n",
    "            output_file.write(f\"Average: {average:.2f}\\n\")\n",
    "\n",
    "        print(f\"Output written to '{output_filename}' successfully!\")\n",
    "    \n",
    "    except FileNotFoundError:\n",
    "        print(\"The specified file was not found.\")\n",
    "\n",
    "input_filename = r\"C:\\Users\\shree\\hello\\numbers.txt\"\n",
    "output_filename = r\"C:\\Users\\shree\\hello\\output_numbers.txt\"\n",
    "\n",
    "calculate_sum_and_average(input_filename, output_filename)\n"
   ]
  },
  {
   "cell_type": "markdown",
   "id": "13a7ba1e-0e03-4db5-b2c1-0bee1d063db4",
   "metadata": {},
   "source": [
    "# Assignment Completed!!!"
   ]
  },
  {
   "cell_type": "code",
   "execution_count": null,
   "id": "d1c7fe98-5857-466e-b63f-9ca0dbf83281",
   "metadata": {},
   "outputs": [],
   "source": []
  }
 ],
 "metadata": {
  "kernelspec": {
   "display_name": "Python 3 (ipykernel)",
   "language": "python",
   "name": "python3"
  },
  "language_info": {
   "codemirror_mode": {
    "name": "ipython",
    "version": 3
   },
   "file_extension": ".py",
   "mimetype": "text/x-python",
   "name": "python",
   "nbconvert_exporter": "python",
   "pygments_lexer": "ipython3",
   "version": "3.12.7"
  }
 },
 "nbformat": 4,
 "nbformat_minor": 5
}
